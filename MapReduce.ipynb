{
 "cells": [
  {
   "cell_type": "code",
   "execution_count": 0,
   "metadata": {
    "application/vnd.databricks.v1+cell": {
     "cellMetadata": {
      "byteLimit": 2048000,
      "rowLimit": 10000
     },
     "inputWidgets": {},
     "nuid": "6fd3f505-bdb3-4e74-9776-8f139fa4d9a4",
     "showTitle": false,
     "tableResultSettingsMap": {},
     "title": ""
    }
   },
   "outputs": [
    {
     "output_type": "stream",
     "name": "stdout",
     "output_type": "stream",
     "text": [
      "Python interpreter will be restarted.\nCollecting spacy\n  Using cached spacy-3.8.3-cp39-cp39-manylinux_2_17_x86_64.manylinux2014_x86_64.whl (29.4 MB)\nRequirement already satisfied: numpy>=1.19.0 in /databricks/python3/lib/python3.9/site-packages (from spacy) (1.21.5)\nCollecting spacy-legacy<3.1.0,>=3.0.11\n  Using cached spacy_legacy-3.0.12-py2.py3-none-any.whl (29 kB)\nCollecting catalogue<2.1.0,>=2.0.6\n  Using cached catalogue-2.0.10-py3-none-any.whl (17 kB)\nRequirement already satisfied: setuptools in /databricks/python3/lib/python3.9/site-packages (from spacy) (61.2.0)\nCollecting typer<1.0.0,>=0.3.0\n  Using cached typer-0.15.2-py3-none-any.whl (45 kB)\nCollecting murmurhash<1.1.0,>=0.28.0\n  Using cached murmurhash-1.0.12-cp39-cp39-manylinux_2_5_x86_64.manylinux1_x86_64.manylinux_2_17_x86_64.manylinux2014_x86_64.whl (124 kB)\nRequirement already satisfied: packaging>=20.0 in /databricks/python3/lib/python3.9/site-packages (from spacy) (21.3)\nCollecting cymem<2.1.0,>=2.0.2\n  Using cached cymem-2.0.11-cp39-cp39-manylinux_2_17_x86_64.manylinux2014_x86_64.whl (208 kB)\nRequirement already satisfied: requests<3.0.0,>=2.13.0 in /databricks/python3/lib/python3.9/site-packages (from spacy) (2.27.1)\nCollecting preshed<3.1.0,>=3.0.2\n  Using cached preshed-3.0.9-cp39-cp39-manylinux_2_5_x86_64.manylinux1_x86_64.manylinux_2_17_x86_64.manylinux2014_x86_64.whl (157 kB)\nCollecting weasel<0.5.0,>=0.1.0\n  Using cached weasel-0.4.1-py3-none-any.whl (50 kB)\nCollecting tqdm<5.0.0,>=4.38.0\n  Using cached tqdm-4.67.1-py3-none-any.whl (78 kB)\nCollecting srsly<3.0.0,>=2.4.3\n  Using cached srsly-2.5.1-cp39-cp39-manylinux_2_17_x86_64.manylinux2014_x86_64.whl (1.1 MB)\nCollecting pydantic!=1.8,!=1.8.1,<3.0.0,>=1.7.4\n  Using cached pydantic-2.10.6-py3-none-any.whl (431 kB)\nCollecting langcodes<4.0.0,>=3.2.0\n  Using cached langcodes-3.5.0-py3-none-any.whl (182 kB)\nCollecting spacy-loggers<2.0.0,>=1.0.0\n  Using cached spacy_loggers-1.0.5-py3-none-any.whl (22 kB)\nCollecting wasabi<1.2.0,>=0.9.1\n  Using cached wasabi-1.1.3-py3-none-any.whl (27 kB)\nRequirement already satisfied: jinja2 in /databricks/python3/lib/python3.9/site-packages (from spacy) (2.11.3)\nCollecting thinc<8.4.0,>=8.3.0\n  Using cached thinc-8.3.4-cp39-cp39-manylinux_2_17_x86_64.manylinux2014_x86_64.whl (3.7 MB)\nCollecting language-data>=1.2\n  Using cached language_data-1.3.0-py3-none-any.whl (5.4 MB)\nCollecting marisa-trie>=1.1.0\n  Using cached marisa_trie-1.2.1-cp39-cp39-manylinux_2_17_x86_64.manylinux2014_x86_64.whl (1.3 MB)\nRequirement already satisfied: pyparsing!=3.0.5,>=2.0.2 in /databricks/python3/lib/python3.9/site-packages (from packaging>=20.0->spacy) (3.0.4)\nCollecting annotated-types>=0.6.0\n  Using cached annotated_types-0.7.0-py3-none-any.whl (13 kB)\nCollecting pydantic-core==2.27.2\n  Using cached pydantic_core-2.27.2-cp39-cp39-manylinux_2_17_x86_64.manylinux2014_x86_64.whl (2.0 MB)\nCollecting typing-extensions>=4.12.2\n  Using cached typing_extensions-4.12.2-py3-none-any.whl (37 kB)\nRequirement already satisfied: charset-normalizer~=2.0.0 in /databricks/python3/lib/python3.9/site-packages (from requests<3.0.0,>=2.13.0->spacy) (2.0.4)\nRequirement already satisfied: idna<4,>=2.5 in /databricks/python3/lib/python3.9/site-packages (from requests<3.0.0,>=2.13.0->spacy) (3.3)\nRequirement already satisfied: certifi>=2017.4.17 in /databricks/python3/lib/python3.9/site-packages (from requests<3.0.0,>=2.13.0->spacy) (2021.10.8)\nRequirement already satisfied: urllib3<1.27,>=1.21.1 in /databricks/python3/lib/python3.9/site-packages (from requests<3.0.0,>=2.13.0->spacy) (1.26.9)\nCollecting confection<1.0.0,>=0.0.1\n  Using cached confection-0.1.5-py3-none-any.whl (35 kB)\nCollecting blis<1.3.0,>=1.2.0\n  Using cached blis-1.2.0-cp39-cp39-manylinux_2_17_x86_64.manylinux2014_x86_64.whl (11.5 MB)\nCollecting rich>=10.11.0\n  Using cached rich-13.9.4-py3-none-any.whl (242 kB)\nRequirement already satisfied: click>=8.0.0 in /databricks/python3/lib/python3.9/site-packages (from typer<1.0.0,>=0.3.0->spacy) (8.0.4)\nCollecting shellingham>=1.3.0\n  Using cached shellingham-1.5.4-py2.py3-none-any.whl (9.8 kB)\nCollecting pygments<3.0.0,>=2.13.0\n  Using cached pygments-2.19.1-py3-none-any.whl (1.2 MB)\nCollecting markdown-it-py>=2.2.0\n  Using cached markdown_it_py-3.0.0-py3-none-any.whl (87 kB)\nCollecting mdurl~=0.1\n  Using cached mdurl-0.1.2-py3-none-any.whl (10.0 kB)\nCollecting smart-open<8.0.0,>=5.2.1\n  Using cached smart_open-7.1.0-py3-none-any.whl (61 kB)\nCollecting cloudpathlib<1.0.0,>=0.7.0\n  Using cached cloudpathlib-0.20.0-py3-none-any.whl (52 kB)\nCollecting wrapt\n  Using cached wrapt-1.17.2-cp39-cp39-manylinux_2_5_x86_64.manylinux1_x86_64.manylinux_2_17_x86_64.manylinux2014_x86_64.whl (82 kB)\nRequirement already satisfied: MarkupSafe>=0.23 in /databricks/python3/lib/python3.9/site-packages (from jinja2->spacy) (2.0.1)\nInstalling collected packages: typing-extensions, mdurl, pygments, pydantic-core, markdown-it-py, catalogue, annotated-types, wrapt, srsly, shellingham, rich, pydantic, murmurhash, marisa-trie, cymem, wasabi, typer, smart-open, preshed, language-data, confection, cloudpathlib, blis, weasel, tqdm, thinc, spacy-loggers, spacy-legacy, langcodes, spacy\n  Attempting uninstall: typing-extensions\n    Found existing installation: typing-extensions 4.1.1\n    Not uninstalling typing-extensions at /databricks/python3/lib/python3.9/site-packages, outside environment /local_disk0/.ephemeral_nfs/envs/pythonEnv-2eeeedb1-0989-4ad9-8697-92de85f52b06\n    Can't uninstall 'typing-extensions'. No files were found to uninstall.\n  Attempting uninstall: pygments\n    Found existing installation: Pygments 2.11.2\n    Not uninstalling pygments at /databricks/python3/lib/python3.9/site-packages, outside environment /local_disk0/.ephemeral_nfs/envs/pythonEnv-2eeeedb1-0989-4ad9-8697-92de85f52b06\n    Can't uninstall 'Pygments'. No files were found to uninstall.\nSuccessfully installed annotated-types-0.7.0 blis-1.2.0 catalogue-2.0.10 cloudpathlib-0.20.0 confection-0.1.5 cymem-2.0.11 langcodes-3.5.0 language-data-1.3.0 marisa-trie-1.2.1 markdown-it-py-3.0.0 mdurl-0.1.2 murmurhash-1.0.12 preshed-3.0.9 pydantic-2.10.6 pydantic-core-2.27.2 pygments-2.19.1 rich-13.9.4 shellingham-1.5.4 smart-open-7.1.0 spacy-3.8.3 spacy-legacy-3.0.12 spacy-loggers-1.0.5 srsly-2.5.1 thinc-8.3.4 tqdm-4.67.1 typer-0.15.2 typing-extensions-4.12.2 wasabi-1.1.3 weasel-0.4.1 wrapt-1.17.2\nPython interpreter will be restarted.\nPython interpreter will be restarted.\nCollecting https://github.com/explosion/spacy-models/releases/download/en_core_web_sm-3.2.0/en_core_web_sm-3.2.0.tar.gz\n  Downloading https://github.com/explosion/spacy-models/releases/download/en_core_web_sm-3.2.0/en_core_web_sm-3.2.0.tar.gz (13.9 MB)\nCollecting spacy<3.3.0,>=3.2.0\n  Using cached spacy-3.2.6-cp39-cp39-manylinux_2_17_x86_64.manylinux2014_x86_64.whl (6.1 MB)\nCollecting wasabi<1.1.0,>=0.8.1\n  Using cached wasabi-0.10.1-py3-none-any.whl (26 kB)\nRequirement already satisfied: catalogue<2.1.0,>=2.0.6 in /local_disk0/.ephemeral_nfs/envs/pythonEnv-2eeeedb1-0989-4ad9-8697-92de85f52b06/lib/python3.9/site-packages (from spacy<3.3.0,>=3.2.0->en-core-web-sm==3.2.0) (2.0.10)\nRequirement already satisfied: setuptools in /databricks/python3/lib/python3.9/site-packages (from spacy<3.3.0,>=3.2.0->en-core-web-sm==3.2.0) (61.2.0)\nRequirement already satisfied: numpy>=1.15.0 in /databricks/python3/lib/python3.9/site-packages (from spacy<3.3.0,>=3.2.0->en-core-web-sm==3.2.0) (1.21.5)\nRequirement already satisfied: murmurhash<1.1.0,>=0.28.0 in /local_disk0/.ephemeral_nfs/envs/pythonEnv-2eeeedb1-0989-4ad9-8697-92de85f52b06/lib/python3.9/site-packages (from spacy<3.3.0,>=3.2.0->en-core-web-sm==3.2.0) (1.0.12)\nRequirement already satisfied: srsly<3.0.0,>=2.4.1 in /local_disk0/.ephemeral_nfs/envs/pythonEnv-2eeeedb1-0989-4ad9-8697-92de85f52b06/lib/python3.9/site-packages (from spacy<3.3.0,>=3.2.0->en-core-web-sm==3.2.0) (2.5.1)\nCollecting smart-open<7.0.0,>=5.2.1\n  Using cached smart_open-6.4.0-py3-none-any.whl (57 kB)\nRequirement already satisfied: spacy-legacy<3.1.0,>=3.0.8 in /local_disk0/.ephemeral_nfs/envs/pythonEnv-2eeeedb1-0989-4ad9-8697-92de85f52b06/lib/python3.9/site-packages (from spacy<3.3.0,>=3.2.0->en-core-web-sm==3.2.0) (3.0.12)\nRequirement already satisfied: packaging>=20.0 in /databricks/python3/lib/python3.9/site-packages (from spacy<3.3.0,>=3.2.0->en-core-web-sm==3.2.0) (21.3)\nRequirement already satisfied: cymem<2.1.0,>=2.0.2 in /local_disk0/.ephemeral_nfs/envs/pythonEnv-2eeeedb1-0989-4ad9-8697-92de85f52b06/lib/python3.9/site-packages (from spacy<3.3.0,>=3.2.0->en-core-web-sm==3.2.0) (2.0.11)\nCollecting thinc<8.1.0,>=8.0.12\n  Using cached thinc-8.0.17-cp39-cp39-manylinux_2_17_x86_64.manylinux2014_x86_64.whl (668 kB)\nRequirement already satisfied: requests<3.0.0,>=2.13.0 in /databricks/python3/lib/python3.9/site-packages (from spacy<3.3.0,>=3.2.0->en-core-web-sm==3.2.0) (2.27.1)\nRequirement already satisfied: preshed<3.1.0,>=3.0.2 in /local_disk0/.ephemeral_nfs/envs/pythonEnv-2eeeedb1-0989-4ad9-8697-92de85f52b06/lib/python3.9/site-packages (from spacy<3.3.0,>=3.2.0->en-core-web-sm==3.2.0) (3.0.9)\nCollecting blis<0.8.0,>=0.4.0\n  Using cached blis-0.7.11-cp39-cp39-manylinux_2_17_x86_64.manylinux2014_x86_64.whl (10.2 MB)\nRequirement already satisfied: tqdm<5.0.0,>=4.38.0 in /local_disk0/.ephemeral_nfs/envs/pythonEnv-2eeeedb1-0989-4ad9-8697-92de85f52b06/lib/python3.9/site-packages (from spacy<3.3.0,>=3.2.0->en-core-web-sm==3.2.0) (4.67.1)\nCollecting pydantic!=1.8,!=1.8.1,<1.9.0,>=1.7.4\n  Using cached pydantic-1.8.2-cp39-cp39-manylinux2014_x86_64.whl (11.3 MB)\nRequirement already satisfied: langcodes<4.0.0,>=3.2.0 in /local_disk0/.ephemeral_nfs/envs/pythonEnv-2eeeedb1-0989-4ad9-8697-92de85f52b06/lib/python3.9/site-packages (from spacy<3.3.0,>=3.2.0->en-core-web-sm==3.2.0) (3.5.0)\nRequirement already satisfied: spacy-loggers<2.0.0,>=1.0.0 in /local_disk0/.ephemeral_nfs/envs/pythonEnv-2eeeedb1-0989-4ad9-8697-92de85f52b06/lib/python3.9/site-packages (from spacy<3.3.0,>=3.2.0->en-core-web-sm==3.2.0) (1.0.5)\nCollecting typing-extensions<4.6.0,>=3.7.4.1\n  Using cached typing_extensions-4.5.0-py3-none-any.whl (27 kB)\nCollecting pathy>=0.3.5\n  Using cached pathy-0.11.0-py3-none-any.whl (47 kB)\nRequirement already satisfied: jinja2 in /databricks/python3/lib/python3.9/site-packages (from spacy<3.3.0,>=3.2.0->en-core-web-sm==3.2.0) (2.11.3)\nCollecting typer<0.5.0,>=0.3.0\n  Using cached typer-0.4.2-py3-none-any.whl (27 kB)\nRequirement already satisfied: language-data>=1.2 in /local_disk0/.ephemeral_nfs/envs/pythonEnv-2eeeedb1-0989-4ad9-8697-92de85f52b06/lib/python3.9/site-packages (from langcodes<4.0.0,>=3.2.0->spacy<3.3.0,>=3.2.0->en-core-web-sm==3.2.0) (1.3.0)\nRequirement already satisfied: marisa-trie>=1.1.0 in /local_disk0/.ephemeral_nfs/envs/pythonEnv-2eeeedb1-0989-4ad9-8697-92de85f52b06/lib/python3.9/site-packages (from language-data>=1.2->langcodes<4.0.0,>=3.2.0->spacy<3.3.0,>=3.2.0->en-core-web-sm==3.2.0) (1.2.1)\nRequirement already satisfied: pyparsing!=3.0.5,>=2.0.2 in /databricks/python3/lib/python3.9/site-packages (from packaging>=20.0->spacy<3.3.0,>=3.2.0->en-core-web-sm==3.2.0) (3.0.4)\nCollecting pathlib-abc==0.1.1\n  Using cached pathlib_abc-0.1.1-py3-none-any.whl (23 kB)\nRequirement already satisfied: charset-normalizer~=2.0.0 in /databricks/python3/lib/python3.9/site-packages (from requests<3.0.0,>=2.13.0->spacy<3.3.0,>=3.2.0->en-core-web-sm==3.2.0) (2.0.4)\nRequirement already satisfied: idna<4,>=2.5 in /databricks/python3/lib/python3.9/site-packages (from requests<3.0.0,>=2.13.0->spacy<3.3.0,>=3.2.0->en-core-web-sm==3.2.0) (3.3)\nRequirement already satisfied: certifi>=2017.4.17 in /databricks/python3/lib/python3.9/site-packages (from requests<3.0.0,>=2.13.0->spacy<3.3.0,>=3.2.0->en-core-web-sm==3.2.0) (2021.10.8)\nRequirement already satisfied: urllib3<1.27,>=1.21.1 in /databricks/python3/lib/python3.9/site-packages (from requests<3.0.0,>=2.13.0->spacy<3.3.0,>=3.2.0->en-core-web-sm==3.2.0) (1.26.9)\nRequirement already satisfied: click<9.0.0,>=7.1.1 in /databricks/python3/lib/python3.9/site-packages (from typer<0.5.0,>=0.3.0->spacy<3.3.0,>=3.2.0->en-core-web-sm==3.2.0) (8.0.4)\nRequirement already satisfied: MarkupSafe>=0.23 in /databricks/python3/lib/python3.9/site-packages (from jinja2->spacy<3.3.0,>=3.2.0->en-core-web-sm==3.2.0) (2.0.1)\nBuilding wheels for collected packages: en-core-web-sm\n  Building wheel for en-core-web-sm (setup.py): started\n  Building wheel for en-core-web-sm (setup.py): finished with status 'done'\n  Created wheel for en-core-web-sm: filename=en_core_web_sm-3.2.0-py3-none-any.whl size=13900217 sha256=dd7e4b658fd3cd47ea0535be0c8a0141eb7079e66a91b40a8dd619d7974d1ec9\n  Stored in directory: /root/.cache/pip/wheels/6b/f3/e3/63027c0c01b21850a0b2ca7708201d27b9bbfbbeeeaa0b9b92\nSuccessfully built en-core-web-sm\nInstalling collected packages: typing-extensions, wasabi, typer, smart-open, pydantic, pathlib-abc, blis, thinc, pathy, spacy, en-core-web-sm\n  Attempting uninstall: typing-extensions\n    Found existing installation: typing-extensions 4.12.2\n    Uninstalling typing-extensions-4.12.2:\n      Successfully uninstalled typing-extensions-4.12.2\n  Attempting uninstall: wasabi\n    Found existing installation: wasabi 1.1.3\n    Uninstalling wasabi-1.1.3:\n      Successfully uninstalled wasabi-1.1.3\n  Attempting uninstall: typer\n    Found existing installation: typer 0.15.2\n    Uninstalling typer-0.15.2:\n      Successfully uninstalled typer-0.15.2\n  Attempting uninstall: smart-open\n    Found existing installation: smart-open 7.1.0\n    Uninstalling smart-open-7.1.0:\n      Successfully uninstalled smart-open-7.1.0\n  Attempting uninstall: pydantic\n    Found existing installation: pydantic 2.10.6\n    Uninstalling pydantic-2.10.6:\n      Successfully uninstalled pydantic-2.10.6\n  Attempting uninstall: blis\n    Found existing installation: blis 1.2.0\n    Uninstalling blis-1.2.0:\n      Successfully uninstalled blis-1.2.0\n  Attempting uninstall: thinc\n    Found existing installation: thinc 8.3.4\n    Uninstalling thinc-8.3.4:\n      Successfully uninstalled thinc-8.3.4\n  Attempting uninstall: spacy\n    Found existing installation: spacy 3.8.3\n    Uninstalling spacy-3.8.3:\n      Successfully uninstalled spacy-3.8.3\nERROR: pip's dependency resolver does not currently take into account all the packages that are installed. This behaviour is the source of the following dependency conflicts.\npydantic-core 2.27.2 requires typing-extensions!=4.7.0,>=4.6.0, but you have typing-extensions 4.5.0 which is incompatible.\nSuccessfully installed blis-0.7.11 en-core-web-sm-3.2.0 pathlib-abc-0.1.1 pathy-0.11.0 pydantic-1.8.2 smart-open-6.4.0 spacy-3.2.6 thinc-8.0.17 typer-0.4.2 typing-extensions-4.5.0 wasabi-0.10.1\nPython interpreter will be restarted.\n"
     ]
    }
   ],
   "source": [
    "%pip install spacy\n",
    "%pip install https://github.com/explosion/spacy-models/releases/download/en_core_web_sm-3.2.0/en_core_web_sm-3.2.0.tar.gz"
   ]
  },
  {
   "cell_type": "code",
   "execution_count": 0,
   "metadata": {
    "application/vnd.databricks.v1+cell": {
     "cellMetadata": {
      "byteLimit": 2048000,
      "rowLimit": 10000
     },
     "inputWidgets": {},
     "nuid": "bb8c0336-0ea0-40ef-9936-b66ee2e45e1d",
     "showTitle": false,
     "tableResultSettingsMap": {},
     "title": ""
    }
   },
   "outputs": [],
   "source": [
    "import spacy"
   ]
  },
  {
   "cell_type": "code",
   "execution_count": 0,
   "metadata": {
    "application/vnd.databricks.v1+cell": {
     "cellMetadata": {
      "byteLimit": 2048000,
      "rowLimit": 10000
     },
     "inputWidgets": {},
     "nuid": "ebf59c7c-a566-4338-b04f-42647278c293",
     "showTitle": false,
     "tableResultSettingsMap": {},
     "title": ""
    }
   },
   "outputs": [],
   "source": [
    "nlp = spacy.load(\"en_core_web_sm\")"
   ]
  },
  {
   "cell_type": "code",
   "execution_count": 0,
   "metadata": {
    "application/vnd.databricks.v1+cell": {
     "cellMetadata": {
      "byteLimit": 2048000,
      "rowLimit": 10000
     },
     "inputWidgets": {},
     "nuid": "96570194-8746-4300-8f45-ade6ce3cbc68",
     "showTitle": false,
     "tableResultSettingsMap": {},
     "title": ""
    }
   },
   "outputs": [],
   "source": [
    "stop_words = spacy.lang.en.stop_words.STOP_WORDS "
   ]
  },
  {
   "cell_type": "code",
   "execution_count": 0,
   "metadata": {
    "application/vnd.databricks.v1+cell": {
     "cellMetadata": {
      "byteLimit": 2048000,
      "rowLimit": 10000
     },
     "inputWidgets": {},
     "nuid": "e58d51df-c605-49f2-873f-0a792bec89ec",
     "showTitle": false,
     "tableResultSettingsMap": {},
     "title": ""
    }
   },
   "outputs": [
    {
     "output_type": "stream",
     "name": "stdout",
     "output_type": "stream",
     "text": [
      "Out[4]: {\"'d\",\n \"'ll\",\n \"'m\",\n \"'re\",\n \"'s\",\n \"'ve\",\n 'a',\n 'about',\n 'above',\n 'across',\n 'after',\n 'afterwards',\n 'again',\n 'against',\n 'all',\n 'almost',\n 'alone',\n 'along',\n 'already',\n 'also',\n 'although',\n 'always',\n 'am',\n 'among',\n 'amongst',\n 'amount',\n 'an',\n 'and',\n 'another',\n 'any',\n 'anyhow',\n 'anyone',\n 'anything',\n 'anyway',\n 'anywhere',\n 'are',\n 'around',\n 'as',\n 'at',\n 'back',\n 'be',\n 'became',\n 'because',\n 'become',\n 'becomes',\n 'becoming',\n 'been',\n 'before',\n 'beforehand',\n 'behind',\n 'being',\n 'below',\n 'beside',\n 'besides',\n 'between',\n 'beyond',\n 'both',\n 'bottom',\n 'but',\n 'by',\n 'ca',\n 'call',\n 'can',\n 'cannot',\n 'could',\n 'did',\n 'do',\n 'does',\n 'doing',\n 'done',\n 'down',\n 'due',\n 'during',\n 'each',\n 'eight',\n 'either',\n 'eleven',\n 'else',\n 'elsewhere',\n 'empty',\n 'enough',\n 'even',\n 'ever',\n 'every',\n 'everyone',\n 'everything',\n 'everywhere',\n 'except',\n 'few',\n 'fifteen',\n 'fifty',\n 'first',\n 'five',\n 'for',\n 'former',\n 'formerly',\n 'forty',\n 'four',\n 'from',\n 'front',\n 'full',\n 'further',\n 'get',\n 'give',\n 'go',\n 'had',\n 'has',\n 'have',\n 'he',\n 'hence',\n 'her',\n 'here',\n 'hereafter',\n 'hereby',\n 'herein',\n 'hereupon',\n 'hers',\n 'herself',\n 'him',\n 'himself',\n 'his',\n 'how',\n 'however',\n 'hundred',\n 'i',\n 'if',\n 'in',\n 'indeed',\n 'into',\n 'is',\n 'it',\n 'its',\n 'itself',\n 'just',\n 'keep',\n 'last',\n 'latter',\n 'latterly',\n 'least',\n 'less',\n 'made',\n 'make',\n 'many',\n 'may',\n 'me',\n 'meanwhile',\n 'might',\n 'mine',\n 'more',\n 'moreover',\n 'most',\n 'mostly',\n 'move',\n 'much',\n 'must',\n 'my',\n 'myself',\n \"n't\",\n 'name',\n 'namely',\n 'neither',\n 'never',\n 'nevertheless',\n 'next',\n 'nine',\n 'no',\n 'nobody',\n 'none',\n 'noone',\n 'nor',\n 'not',\n 'nothing',\n 'now',\n 'nowhere',\n 'n‘t',\n 'n’t',\n 'of',\n 'off',\n 'often',\n 'on',\n 'once',\n 'one',\n 'only',\n 'onto',\n 'or',\n 'other',\n 'others',\n 'otherwise',\n 'our',\n 'ours',\n 'ourselves',\n 'out',\n 'over',\n 'own',\n 'part',\n 'per',\n 'perhaps',\n 'please',\n 'put',\n 'quite',\n 'rather',\n 're',\n 'really',\n 'regarding',\n 'same',\n 'say',\n 'see',\n 'seem',\n 'seemed',\n 'seeming',\n 'seems',\n 'serious',\n 'several',\n 'she',\n 'should',\n 'show',\n 'side',\n 'since',\n 'six',\n 'sixty',\n 'so',\n 'some',\n 'somehow',\n 'someone',\n 'something',\n 'sometime',\n 'sometimes',\n 'somewhere',\n 'still',\n 'such',\n 'take',\n 'ten',\n 'than',\n 'that',\n 'the',\n 'their',\n 'them',\n 'themselves',\n 'then',\n 'thence',\n 'there',\n 'thereafter',\n 'thereby',\n 'therefore',\n 'therein',\n 'thereupon',\n 'these',\n 'they',\n 'third',\n 'this',\n 'those',\n 'though',\n 'three',\n 'through',\n 'throughout',\n 'thru',\n 'thus',\n 'to',\n 'together',\n 'too',\n 'top',\n 'toward',\n 'towards',\n 'twelve',\n 'twenty',\n 'two',\n 'under',\n 'unless',\n 'until',\n 'up',\n 'upon',\n 'us',\n 'used',\n 'using',\n 'various',\n 'very',\n 'via',\n 'was',\n 'we',\n 'well',\n 'were',\n 'what',\n 'whatever',\n 'when',\n 'whence',\n 'whenever',\n 'where',\n 'whereafter',\n 'whereas',\n 'whereby',\n 'wherein',\n 'whereupon',\n 'wherever',\n 'whether',\n 'which',\n 'while',\n 'whither',\n 'who',\n 'whoever',\n 'whole',\n 'whom',\n 'whose',\n 'why',\n 'will',\n 'with',\n 'within',\n 'without',\n 'would',\n 'yet',\n 'you',\n 'your',\n 'yours',\n 'yourself',\n 'yourselves',\n '‘d',\n '‘ll',\n '‘m',\n '‘re',\n '‘s',\n '‘ve',\n '’d',\n '’ll',\n '’m',\n '’re',\n '’s',\n '’ve'}"
     ]
    }
   ],
   "source": [
    "stop_words"
   ]
  },
  {
   "cell_type": "code",
   "execution_count": 0,
   "metadata": {
    "application/vnd.databricks.v1+cell": {
     "cellMetadata": {
      "byteLimit": 2048000,
      "rowLimit": 10000
     },
     "inputWidgets": {},
     "nuid": "f7f16cc3-6959-4bde-b7b7-acf641516c44",
     "showTitle": false,
     "tableResultSettingsMap": {},
     "title": ""
    }
   },
   "outputs": [
    {
     "output_type": "stream",
     "name": "stdout",
     "output_type": "stream",
     "text": [
      "CARDINAL: Numerals that do not fall under another type\nDATE: Absolute or relative dates or periods\nEVENT: Named hurricanes, battles, wars, sports events, etc.\nFAC: Buildings, airports, highways, bridges, etc.\nGPE: Countries, cities, states\nLANGUAGE: Any named language\nLAW: Named documents made into laws.\nLOC: Non-GPE locations, mountain ranges, bodies of water\nMONEY: Monetary values, including unit\nNORP: Nationalities or religious or political groups\nORDINAL: \"first\", \"second\", etc.\nORG: Companies, agencies, institutions, etc.\nPERCENT: Percentage, including \"%\"\nPERSON: People, including fictional\nPRODUCT: Objects, vehicles, foods, etc. (not services)\nQUANTITY: Measurements, as of weight or distance\nTIME: Times smaller than a day\nWORK_OF_ART: Titles of books, songs, etc.\n"
     ]
    }
   ],
   "source": [
    "for label in nlp.get_pipe(\"ner\").labels:\n",
    "    print(f\"{label}: {spacy.explain(label)}\")"
   ]
  },
  {
   "cell_type": "code",
   "execution_count": 0,
   "metadata": {
    "application/vnd.databricks.v1+cell": {
     "cellMetadata": {
      "byteLimit": 2048000,
      "rowLimit": 10000
     },
     "inputWidgets": {},
     "nuid": "e7c10123-868b-4838-9d26-8a18aa2917d9",
     "showTitle": false,
     "tableResultSettingsMap": {},
     "title": ""
    }
   },
   "outputs": [
    {
     "output_type": "stream",
     "name": "stdout",
     "output_type": "stream",
     "text": [
      "Out[6]: ('CARDINAL',\n 'DATE',\n 'EVENT',\n 'FAC',\n 'GPE',\n 'LANGUAGE',\n 'LAW',\n 'LOC',\n 'MONEY',\n 'NORP',\n 'ORDINAL',\n 'ORG',\n 'PERCENT',\n 'PERSON',\n 'PRODUCT',\n 'QUANTITY',\n 'TIME',\n 'WORK_OF_ART')"
     ]
    }
   ],
   "source": [
    "nlp.get_pipe(\"ner\").labels"
   ]
  },
  {
   "cell_type": "code",
   "execution_count": 0,
   "metadata": {
    "application/vnd.databricks.v1+cell": {
     "cellMetadata": {
      "byteLimit": 2048000,
      "rowLimit": 10000
     },
     "inputWidgets": {},
     "nuid": "3c80b6da-b9a6-4c0b-b40e-ca686a129389",
     "showTitle": false,
     "tableResultSettingsMap": {},
     "title": ""
    }
   },
   "outputs": [],
   "source": [
    "# TEXT_PATH = \"dbfs:/FileStore/tables/large_text_file.txt\"\n",
    "TEXT_PATH = \"dbfs:/FileStore/tables/rj.txt\""
   ]
  },
  {
   "cell_type": "code",
   "execution_count": 0,
   "metadata": {
    "application/vnd.databricks.v1+cell": {
     "cellMetadata": {
      "byteLimit": 2048000,
      "rowLimit": 10000
     },
     "inputWidgets": {},
     "nuid": "65399d41-4374-4bec-9cb8-15d715ca8f46",
     "showTitle": false,
     "tableResultSettingsMap": {},
     "title": ""
    }
   },
   "outputs": [],
   "source": [
    "text = sc.textFile(TEXT_PATH)"
   ]
  },
  {
   "cell_type": "code",
   "execution_count": 0,
   "metadata": {
    "application/vnd.databricks.v1+cell": {
     "cellMetadata": {
      "byteLimit": 2048000,
      "rowLimit": 10000
     },
     "inputWidgets": {},
     "nuid": "6442f2fd-ebc4-43ed-85f8-2b48d60b1b2a",
     "showTitle": false,
     "tableResultSettingsMap": {},
     "title": ""
    }
   },
   "outputs": [
    {
     "output_type": "stream",
     "name": "stdout",
     "output_type": "stream",
     "text": [
      "Out[9]: ['The Project Gutenberg eBook of Romeo and Juliet',\n '    ',\n 'This ebook is for the use of anyone anywhere in the United States and',\n 'most other parts of the world at no cost and with almost no restrictions',\n 'whatsoever. You may copy it, give it away or re-use it under the terms',\n 'of the Project Gutenberg License included with this ebook or online',\n 'at www.gutenberg.org. If you are not located in the United States,',\n 'you will have to check the laws of the country where you are located',\n 'before using this eBook.',\n '']"
     ]
    }
   ],
   "source": [
    "text.take(10)"
   ]
  },
  {
   "cell_type": "markdown",
   "metadata": {
    "application/vnd.databricks.v1+cell": {
     "cellMetadata": {
      "byteLimit": 2048000,
      "rowLimit": 10000
     },
     "inputWidgets": {},
     "nuid": "d9c31525-5d6f-4096-a735-ab86b5896107",
     "showTitle": false,
     "tableResultSettingsMap": {},
     "title": ""
    }
   },
   "source": [
    "# Removing Stopwords and extracting labels of words"
   ]
  },
  {
   "cell_type": "code",
   "execution_count": 0,
   "metadata": {
    "application/vnd.databricks.v1+cell": {
     "cellMetadata": {
      "byteLimit": 2048000,
      "rowLimit": 10000
     },
     "inputWidgets": {},
     "nuid": "72a35731-179e-4e31-9a95-827399398093",
     "showTitle": false,
     "tableResultSettingsMap": {},
     "title": ""
    }
   },
   "outputs": [],
   "source": [
    "def process_text(text):\n",
    "    doc = nlp(text)\n",
    "    filtered_tokens = [token for token in doc if not token.is_stop]\n",
    "    # Use map to extract entity tuples without an explicit for loop\n",
    "    entities = list(map(lambda ent: (ent.text, ent.label_), doc.ents))\n",
    "    return entities"
   ]
  },
  {
   "cell_type": "code",
   "execution_count": 0,
   "metadata": {
    "application/vnd.databricks.v1+cell": {
     "cellMetadata": {
      "byteLimit": 2048000,
      "rowLimit": 10000
     },
     "inputWidgets": {},
     "nuid": "32d9b04d-1333-4678-ac53-5fbc7c3db775",
     "showTitle": false,
     "tableResultSettingsMap": {},
     "title": ""
    }
   },
   "outputs": [],
   "source": [
    "labelled_entities = text.flatMap(process_text)"
   ]
  },
  {
   "cell_type": "code",
   "execution_count": 0,
   "metadata": {
    "application/vnd.databricks.v1+cell": {
     "cellMetadata": {
      "byteLimit": 2048000,
      "rowLimit": 10000
     },
     "inputWidgets": {},
     "nuid": "ffff5f2c-5982-46af-8051-34dd1de64813",
     "showTitle": false,
     "tableResultSettingsMap": {},
     "title": ""
    }
   },
   "outputs": [
    {
     "output_type": "stream",
     "name": "stdout",
     "output_type": "stream",
     "text": [
      "Out[12]: pyspark.rdd.PipelinedRDD"
     ]
    }
   ],
   "source": [
    "type(labelled_entities)"
   ]
  },
  {
   "cell_type": "code",
   "execution_count": 0,
   "metadata": {
    "application/vnd.databricks.v1+cell": {
     "cellMetadata": {
      "byteLimit": 2048000,
      "rowLimit": 10000
     },
     "inputWidgets": {},
     "nuid": "ae9c79e3-6322-4581-8d77-1083436c230e",
     "showTitle": false,
     "tableResultSettingsMap": {},
     "title": ""
    }
   },
   "outputs": [
    {
     "output_type": "stream",
     "name": "stdout",
     "output_type": "stream",
     "text": [
      "Out[13]: [('Project Gutenberg', 'PERSON'),\n ('Romeo', 'GPE'),\n ('Juliet', 'NORP'),\n ('the United States', 'GPE'),\n ('the Project Gutenberg License', 'ORG'),\n ('the United States', 'GPE'),\n ('eBook', 'ORG'),\n ('Juliet', 'NORP'),\n ('William Shakespeare', 'PERSON'),\n ('November 1, 1998', 'DATE')]"
     ]
    }
   ],
   "source": [
    "labelled_entities.take(10)"
   ]
  },
  {
   "cell_type": "code",
   "execution_count": 0,
   "metadata": {
    "application/vnd.databricks.v1+cell": {
     "cellMetadata": {
      "byteLimit": 2048000,
      "rowLimit": 10000
     },
     "inputWidgets": {},
     "nuid": "4f7e22c2-48db-40d7-a2f7-d0e0376bdb5f",
     "showTitle": false,
     "tableResultSettingsMap": {},
     "title": ""
    }
   },
   "outputs": [
    {
     "output_type": "stream",
     "name": "stdout",
     "output_type": "stream",
     "text": [
      "Out[14]: ['PERSON',\n 'DATE',\n 'CARDINAL',\n 'TIME',\n 'WORK_OF_ART',\n 'ORDINAL',\n 'GPE',\n 'NORP',\n 'ORG',\n 'LANGUAGE',\n 'PRODUCT',\n 'LOC',\n 'EVENT',\n 'FAC',\n 'MONEY',\n 'LAW',\n 'QUANTITY',\n 'PERCENT']"
     ]
    }
   ],
   "source": [
    "labelled_entities.values().distinct().take(20)"
   ]
  },
  {
   "cell_type": "code",
   "execution_count": 0,
   "metadata": {
    "application/vnd.databricks.v1+cell": {
     "cellMetadata": {
      "byteLimit": 2048000,
      "rowLimit": 10000
     },
     "inputWidgets": {},
     "nuid": "526f8dc7-3592-4300-88e1-b49fa9569b93",
     "showTitle": false,
     "tableResultSettingsMap": {},
     "title": ""
    }
   },
   "outputs": [],
   "source": [
    "ALLOWED_LABELS = (\n",
    " 'FAC',\n",
    " 'GPE',\n",
    " 'LANGUAGE',\n",
    " 'LOC',\n",
    " 'ORG',\n",
    " 'PERSON',\n",
    " 'PRODUCT',\n",
    " 'WORK_OF_ART'\n",
    ")"
   ]
  },
  {
   "cell_type": "markdown",
   "metadata": {
    "application/vnd.databricks.v1+cell": {
     "cellMetadata": {
      "byteLimit": 2048000,
      "rowLimit": 10000
     },
     "inputWidgets": {},
     "nuid": "8692ab4f-a55f-4bc4-9195-b80061ebd35b",
     "showTitle": false,
     "tableResultSettingsMap": {},
     "title": ""
    }
   },
   "source": [
    "## Filtering the named entities by allowed labels."
   ]
  },
  {
   "cell_type": "code",
   "execution_count": 0,
   "metadata": {
    "application/vnd.databricks.v1+cell": {
     "cellMetadata": {
      "byteLimit": 2048000,
      "rowLimit": 10000
     },
     "inputWidgets": {},
     "nuid": "f7a2fbb5-6092-434c-8870-b506c99b996f",
     "showTitle": false,
     "tableResultSettingsMap": {},
     "title": ""
    }
   },
   "outputs": [],
   "source": [
    "named_entities = labelled_entities.filter(lambda entity: entity[1] in ALLOWED_LABELS)"
   ]
  },
  {
   "cell_type": "code",
   "execution_count": 0,
   "metadata": {
    "application/vnd.databricks.v1+cell": {
     "cellMetadata": {
      "byteLimit": 2048000,
      "rowLimit": 10000
     },
     "inputWidgets": {},
     "nuid": "167282dc-f5a1-49eb-a407-fb64b1b8c2ca",
     "showTitle": false,
     "tableResultSettingsMap": {},
     "title": ""
    }
   },
   "outputs": [
    {
     "output_type": "stream",
     "name": "stdout",
     "output_type": "stream",
     "text": [
      "Out[17]: [('Project Gutenberg', 'PERSON'),\n ('Romeo', 'GPE'),\n ('the United States', 'GPE'),\n ('the Project Gutenberg License', 'ORG'),\n ('the United States', 'GPE'),\n ('eBook', 'ORG'),\n ('William Shakespeare', 'PERSON'),\n ('eBook', 'ORG'),\n ('English', 'LANGUAGE'),\n ('Shakespeare Team', 'PERSON')]"
     ]
    }
   ],
   "source": [
    "named_entities.take(10)"
   ]
  },
  {
   "cell_type": "markdown",
   "metadata": {
    "application/vnd.databricks.v1+cell": {
     "cellMetadata": {
      "byteLimit": 2048000,
      "rowLimit": 10000
     },
     "inputWidgets": {},
     "nuid": "79c00abd-b603-4534-861f-fa04b6e68c73",
     "showTitle": false,
     "tableResultSettingsMap": {},
     "title": ""
    }
   },
   "source": [
    "# Map Reduce"
   ]
  },
  {
   "cell_type": "markdown",
   "metadata": {
    "application/vnd.databricks.v1+cell": {
     "cellMetadata": {
      "byteLimit": 2048000,
      "rowLimit": 10000
     },
     "inputWidgets": {},
     "nuid": "571b018b-4de7-47f1-975d-0b3472747203",
     "showTitle": false,
     "tableResultSettingsMap": {},
     "title": ""
    }
   },
   "source": [
    "## Map Phase"
   ]
  },
  {
   "cell_type": "code",
   "execution_count": 0,
   "metadata": {
    "application/vnd.databricks.v1+cell": {
     "cellMetadata": {
      "byteLimit": 2048000,
      "rowLimit": 10000
     },
     "inputWidgets": {},
     "nuid": "818b5430-c9e9-490d-a585-2ea168ae0c95",
     "showTitle": false,
     "tableResultSettingsMap": {},
     "title": ""
    }
   },
   "outputs": [],
   "source": [
    "named_entities_map = named_entities.map(lambda entity: [entity[0], 1])"
   ]
  },
  {
   "cell_type": "code",
   "execution_count": 0,
   "metadata": {
    "application/vnd.databricks.v1+cell": {
     "cellMetadata": {
      "byteLimit": 2048000,
      "rowLimit": 10000
     },
     "inputWidgets": {},
     "nuid": "e28a4063-59bf-4bd5-a9e4-4dacb93478c0",
     "showTitle": false,
     "tableResultSettingsMap": {},
     "title": ""
    }
   },
   "outputs": [
    {
     "output_type": "stream",
     "name": "stdout",
     "output_type": "stream",
     "text": [
      "Out[19]: [['Project Gutenberg', 1],\n ['Romeo', 1],\n ['the United States', 1],\n ['the Project Gutenberg License', 1],\n ['the United States', 1],\n ['eBook', 1],\n ['William Shakespeare', 1],\n ['eBook', 1],\n ['English', 1],\n ['Shakespeare Team', 1]]"
     ]
    }
   ],
   "source": [
    "named_entities_map.take(10)"
   ]
  },
  {
   "cell_type": "markdown",
   "metadata": {
    "application/vnd.databricks.v1+cell": {
     "cellMetadata": {
      "byteLimit": 2048000,
      "rowLimit": 10000
     },
     "inputWidgets": {},
     "nuid": "a14bd787-bd41-4dcb-8735-0cd08e6da47e",
     "showTitle": false,
     "tableResultSettingsMap": {},
     "title": ""
    }
   },
   "source": [
    "## Reduce Phase"
   ]
  },
  {
   "cell_type": "code",
   "execution_count": 0,
   "metadata": {
    "application/vnd.databricks.v1+cell": {
     "cellMetadata": {
      "byteLimit": 2048000,
      "rowLimit": 10000
     },
     "inputWidgets": {},
     "nuid": "0535d00b-ea5b-4f97-b263-e05269dff45d",
     "showTitle": false,
     "tableResultSettingsMap": {},
     "title": ""
    }
   },
   "outputs": [],
   "source": [
    "named_entities_reduced = named_entities_map.reduceByKey(lambda x, y: x + y)"
   ]
  },
  {
   "cell_type": "markdown",
   "metadata": {
    "application/vnd.databricks.v1+cell": {
     "cellMetadata": {
      "byteLimit": 2048000,
      "rowLimit": 10000
     },
     "inputWidgets": {},
     "nuid": "a7f1081a-d9b3-41ad-b5bc-b3b3c016fe4e",
     "showTitle": false,
     "tableResultSettingsMap": {},
     "title": ""
    }
   },
   "source": [
    "## Sorting in descing order by frequency"
   ]
  },
  {
   "cell_type": "code",
   "execution_count": 0,
   "metadata": {
    "application/vnd.databricks.v1+cell": {
     "cellMetadata": {
      "byteLimit": 2048000,
      "rowLimit": 10000
     },
     "inputWidgets": {},
     "nuid": "e1bd2932-422d-4c04-81ee-ce497ba4fffa",
     "showTitle": false,
     "tableResultSettingsMap": {},
     "title": ""
    }
   },
   "outputs": [],
   "source": [
    "named_entities_sorted = named_entities_reduced.sortBy(lambda x: -x[1])"
   ]
  },
  {
   "cell_type": "code",
   "execution_count": 0,
   "metadata": {
    "application/vnd.databricks.v1+cell": {
     "cellMetadata": {
      "byteLimit": 2048000,
      "rowLimit": 10000
     },
     "inputWidgets": {},
     "nuid": "97835798-859e-407b-907b-06add664fb13",
     "showTitle": false,
     "tableResultSettingsMap": {},
     "title": ""
    }
   },
   "outputs": [
    {
     "output_type": "stream",
     "name": "stdout",
     "output_type": "stream",
     "text": [
      "Out[22]: [('NURSE', 91),\n ('Romeo', 71),\n ('LAWRENCE', 56),\n ('Project Gutenberg', 55),\n ('Paris', 31),\n ('Nurse', 25),\n ('PARIS', 24),\n ('thou', 21),\n ('Juliet', 21),\n ('Exit', 20)]"
     ]
    }
   ],
   "source": [
    "named_entities_sorted.take(10)"
   ]
  },
  {
   "cell_type": "code",
   "execution_count": 0,
   "metadata": {
    "application/vnd.databricks.v1+cell": {
     "cellMetadata": {
      "byteLimit": 2048000,
      "rowLimit": 10000
     },
     "inputWidgets": {},
     "nuid": "4e7acfc7-b8cb-4f17-81bf-6ba7dccaa726",
     "showTitle": false,
     "tableResultSettingsMap": {},
     "title": ""
    }
   },
   "outputs": [],
   "source": []
  }
 ],
 "metadata": {
  "application/vnd.databricks.v1+notebook": {
   "computePreferences": null,
   "dashboards": [],
   "environmentMetadata": {
    "base_environment": "",
    "environment_version": "1"
   },
   "inputWidgetPreferences": null,
   "language": "python",
   "notebookMetadata": {
    "pythonIndentUnit": 4
   },
   "notebookName": "1.a",
   "widgets": {}
  }
 },
 "nbformat": 4,
 "nbformat_minor": 0
}
