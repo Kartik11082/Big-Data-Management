{
 "cells": [
  {
   "cell_type": "code",
   "execution_count": 0,
   "metadata": {
    "application/vnd.databricks.v1+cell": {
     "cellMetadata": {
      "byteLimit": 2048000,
      "rowLimit": 10000
     },
     "inputWidgets": {},
     "nuid": "83e4226e-3169-4129-a10b-7b87e9ab0043",
     "showTitle": true,
     "tableResultSettingsMap": {},
     "title": "File Path in DBFS"
    }
   },
   "outputs": [],
   "source": [
    "PLOT_PATH = \"dbfs:/FileStore/tables/plot_summaries.txt\"\n",
    "METADATA_PATH = \"dbfs:/FileStore/tables/movie_metadata.tsv\"\n",
    "SINGLE_TERM_PATH = \"dbfs:/FileStore/tables/single_term.txt\"\n",
    "MULTI_TERM_PATH = \"dbfs:/FileStore/tables/multi_term.txt\""
   ]
  },
  {
   "cell_type": "code",
   "execution_count": 0,
   "metadata": {
    "application/vnd.databricks.v1+cell": {
     "cellMetadata": {
      "byteLimit": 2048000,
      "rowLimit": 10000
     },
     "inputWidgets": {},
     "nuid": "fb00f42a-660d-4715-b8d6-72eaa1446ce9",
     "showTitle": false,
     "tableResultSettingsMap": {},
     "title": ""
    }
   },
   "outputs": [],
   "source": [
    "import re\n",
    "from pyspark.ml.feature import StopWordsRemover\n",
    "import math"
   ]
  },
  {
   "cell_type": "code",
   "execution_count": 0,
   "metadata": {
    "application/vnd.databricks.v1+cell": {
     "cellMetadata": {
      "byteLimit": 2048000,
      "rowLimit": 10000
     },
     "inputWidgets": {},
     "nuid": "066574a0-da1a-435d-a2f7-759668639c84",
     "showTitle": false,
     "tableResultSettingsMap": {},
     "title": ""
    }
   },
   "outputs": [],
   "source": [
    "# Load the plot summaries file\n",
    "data_rdd = sc.textFile(PLOT_PATH)"
   ]
  },
  {
   "cell_type": "code",
   "execution_count": 0,
   "metadata": {
    "application/vnd.databricks.v1+cell": {
     "cellMetadata": {
      "byteLimit": 2048000,
      "rowLimit": 10000
     },
     "inputWidgets": {},
     "nuid": "0d7482cb-5f02-465e-9c01-51145a92182d",
     "showTitle": false,
     "tableResultSettingsMap": {},
     "title": ""
    }
   },
   "outputs": [],
   "source": [
    "# Split into (movie_id, plot_summary)\n",
    "data_rdd = data_rdd.map(lambda line: line.split(\"\\t\")).map(lambda x: (int(x[0]), x[1]))"
   ]
  },
  {
   "cell_type": "code",
   "execution_count": 0,
   "metadata": {
    "application/vnd.databricks.v1+cell": {
     "cellMetadata": {
      "byteLimit": 2048000,
      "rowLimit": 10000
     },
     "inputWidgets": {},
     "nuid": "7588f92c-4141-4b49-bcdb-c6e5e7ad0bb0",
     "showTitle": false,
     "tableResultSettingsMap": {},
     "title": ""
    }
   },
   "outputs": [],
   "source": [
    "# data_rdd.take(1)"
   ]
  },
  {
   "cell_type": "code",
   "execution_count": 0,
   "metadata": {
    "application/vnd.databricks.v1+cell": {
     "cellMetadata": {
      "byteLimit": 2048000,
      "rowLimit": 10000
     },
     "inputWidgets": {},
     "nuid": "3173c41d-a733-4761-bb09-3ac5affd7726",
     "showTitle": false,
     "tableResultSettingsMap": {},
     "title": ""
    }
   },
   "outputs": [],
   "source": [
    "# data_rdd.count()"
   ]
  },
  {
   "cell_type": "markdown",
   "metadata": {
    "application/vnd.databricks.v1+cell": {
     "cellMetadata": {
      "byteLimit": 2048000,
      "rowLimit": 10000
     },
     "inputWidgets": {},
     "nuid": "8f732216-8f94-41d5-939e-fb3532f1e8fd",
     "showTitle": false,
     "tableResultSettingsMap": {},
     "title": ""
    }
   },
   "source": [
    "# Preprocessing"
   ]
  },
  {
   "cell_type": "code",
   "execution_count": 0,
   "metadata": {
    "application/vnd.databricks.v1+cell": {
     "cellMetadata": {
      "byteLimit": 2048000,
      "rowLimit": 10000
     },
     "inputWidgets": {},
     "nuid": "d08e1e35-c560-4d12-99e9-cafc9cf4c774",
     "showTitle": false,
     "tableResultSettingsMap": {},
     "title": ""
    }
   },
   "outputs": [],
   "source": [
    "# Load stopwords from Spark\n",
    "stopwords = StopWordsRemover().getStopWords()"
   ]
  },
  {
   "cell_type": "code",
   "execution_count": 0,
   "metadata": {
    "application/vnd.databricks.v1+cell": {
     "cellMetadata": {
      "byteLimit": 2048000,
      "rowLimit": 10000
     },
     "inputWidgets": {},
     "nuid": "f270db8a-169b-4946-9611-5da6619eeafb",
     "showTitle": false,
     "tableResultSettingsMap": {},
     "title": ""
    }
   },
   "outputs": [],
   "source": [
    "# Function to clean text and tokenize\n",
    "def preprocess(text):\n",
    "    words = re.findall(r\"\\b[a-zA-Z]{2,}\\b\", text.lower())  # Extract words of length ≥ 2\n",
    "    return [word for word in words if word not in stopwords]"
   ]
  },
  {
   "cell_type": "code",
   "execution_count": 0,
   "metadata": {
    "application/vnd.databricks.v1+cell": {
     "cellMetadata": {
      "byteLimit": 2048000,
      "rowLimit": 10000
     },
     "inputWidgets": {},
     "nuid": "31011e8b-8d45-43ec-9057-371dc7d8a438",
     "showTitle": false,
     "tableResultSettingsMap": {},
     "title": ""
    }
   },
   "outputs": [],
   "source": [
    "# Apply preprocessing\n",
    "tokenized_rdd = data_rdd.map(lambda x: (x[0], preprocess(x[1])))"
   ]
  },
  {
   "cell_type": "code",
   "execution_count": 0,
   "metadata": {
    "application/vnd.databricks.v1+cell": {
     "cellMetadata": {
      "byteLimit": 2048000,
      "rowLimit": 10000
     },
     "inputWidgets": {},
     "nuid": "5fc607f2-b7a2-4137-9d9e-cbd296557af3",
     "showTitle": false,
     "tableResultSettingsMap": {},
     "title": ""
    }
   },
   "outputs": [],
   "source": [
    "# stopwords[:5]"
   ]
  },
  {
   "cell_type": "code",
   "execution_count": 0,
   "metadata": {
    "application/vnd.databricks.v1+cell": {
     "cellMetadata": {
      "byteLimit": 2048000,
      "rowLimit": 10000
     },
     "inputWidgets": {},
     "nuid": "37f37d18-0fac-41bc-b490-f497dc3a1aef",
     "showTitle": false,
     "tableResultSettingsMap": {},
     "title": ""
    }
   },
   "outputs": [],
   "source": [
    "# tokenized_rdd.take(10)"
   ]
  },
  {
   "cell_type": "code",
   "execution_count": 0,
   "metadata": {
    "application/vnd.databricks.v1+cell": {
     "cellMetadata": {
      "byteLimit": 2048000,
      "rowLimit": 10000
     },
     "inputWidgets": {},
     "nuid": "95ac8056-c552-49fe-ae6b-f490a2b85fae",
     "showTitle": false,
     "tableResultSettingsMap": {},
     "title": ""
    }
   },
   "outputs": [],
   "source": [
    "# tokenized_rdd.take(1)"
   ]
  },
  {
   "cell_type": "markdown",
   "metadata": {
    "application/vnd.databricks.v1+cell": {
     "cellMetadata": {
      "byteLimit": 2048000,
      "rowLimit": 10000
     },
     "inputWidgets": {},
     "nuid": "951d8e73-e669-48c7-9029-e433607634dd",
     "showTitle": false,
     "tableResultSettingsMap": {},
     "title": ""
    }
   },
   "source": [
    "# TF-IDF Computation"
   ]
  },
  {
   "cell_type": "markdown",
   "metadata": {
    "application/vnd.databricks.v1+cell": {
     "cellMetadata": {
      "byteLimit": 2048000,
      "rowLimit": 10000
     },
     "inputWidgets": {},
     "nuid": "7be7dd69-8e5c-4ec0-9a62-10eeacf9519b",
     "showTitle": false,
     "tableResultSettingsMap": {},
     "title": ""
    }
   },
   "source": [
    "## TF : Frequency of a word within document"
   ]
  },
  {
   "cell_type": "code",
   "execution_count": 0,
   "metadata": {
    "application/vnd.databricks.v1+cell": {
     "cellMetadata": {
      "byteLimit": 2048000,
      "rowLimit": 10000
     },
     "inputWidgets": {},
     "nuid": "346c9734-a09b-4776-b286-c72fd38b7102",
     "showTitle": false,
     "tableResultSettingsMap": {},
     "title": ""
    }
   },
   "outputs": [],
   "source": [
    "# Emit (movie_id, word) -> 1\n",
    "word_counts_rdd = tokenized_rdd.flatMap(lambda x: [((x[0], word), 1) for word in x[1]])"
   ]
  },
  {
   "cell_type": "code",
   "execution_count": 0,
   "metadata": {
    "application/vnd.databricks.v1+cell": {
     "cellMetadata": {
      "byteLimit": 2048000,
      "rowLimit": 10000
     },
     "inputWidgets": {},
     "nuid": "3d5361d2-6eb9-48fa-bf73-0f898f78c972",
     "showTitle": false,
     "tableResultSettingsMap": {},
     "title": ""
    }
   },
   "outputs": [],
   "source": [
    "# Reduce by key to get term frequency (TF)\n",
    "tf_rdd = word_counts_rdd.reduceByKey(lambda a, b: a + b)"
   ]
  },
  {
   "cell_type": "code",
   "execution_count": 0,
   "metadata": {
    "application/vnd.databricks.v1+cell": {
     "cellMetadata": {
      "byteLimit": 2048000,
      "rowLimit": 10000
     },
     "inputWidgets": {},
     "nuid": "2801b735-e34f-4ae7-b632-b72a38626bb2",
     "showTitle": false,
     "tableResultSettingsMap": {},
     "title": ""
    }
   },
   "outputs": [],
   "source": [
    "# word_counts_rdd.take(10)"
   ]
  },
  {
   "cell_type": "code",
   "execution_count": 0,
   "metadata": {
    "application/vnd.databricks.v1+cell": {
     "cellMetadata": {
      "byteLimit": 2048000,
      "rowLimit": 10000
     },
     "inputWidgets": {},
     "nuid": "69e0484b-5ac8-44cf-b354-2e3422509658",
     "showTitle": false,
     "tableResultSettingsMap": {},
     "title": ""
    }
   },
   "outputs": [],
   "source": [
    "# tf_rdd.take(10)"
   ]
  },
  {
   "cell_type": "code",
   "execution_count": 0,
   "metadata": {
    "application/vnd.databricks.v1+cell": {
     "cellMetadata": {
      "byteLimit": 2048000,
      "rowLimit": 10000
     },
     "inputWidgets": {},
     "nuid": "d704f23f-0217-4ad0-a0f1-8fe009fea15a",
     "showTitle": false,
     "tableResultSettingsMap": {},
     "title": ""
    }
   },
   "outputs": [],
   "source": [
    "# tf_rdd.sortBy(lambda x : x[1]).take(10)"
   ]
  },
  {
   "cell_type": "code",
   "execution_count": 0,
   "metadata": {
    "application/vnd.databricks.v1+cell": {
     "cellMetadata": {
      "byteLimit": 2048000,
      "rowLimit": 10000
     },
     "inputWidgets": {},
     "nuid": "fb00ed7a-fd77-4f01-90c7-4b51f8bce45f",
     "showTitle": false,
     "tableResultSettingsMap": {},
     "title": ""
    }
   },
   "outputs": [],
   "source": [
    "# tf_rdd.sortBy(lambda x: -x[1]).take(10)"
   ]
  },
  {
   "cell_type": "markdown",
   "metadata": {
    "application/vnd.databricks.v1+cell": {
     "cellMetadata": {
      "byteLimit": 2048000,
      "rowLimit": 10000
     },
     "inputWidgets": {},
     "nuid": "5238eecd-f07a-433c-abd9-bcb2227a0dc6",
     "showTitle": false,
     "tableResultSettingsMap": {},
     "title": ""
    }
   },
   "source": [
    "## Document Frequency"
   ]
  },
  {
   "cell_type": "code",
   "execution_count": 0,
   "metadata": {
    "application/vnd.databricks.v1+cell": {
     "cellMetadata": {
      "byteLimit": 2048000,
      "rowLimit": 10000
     },
     "inputWidgets": {},
     "nuid": "90873833-90de-4be0-8d21-7dee85bf504b",
     "showTitle": false,
     "tableResultSettingsMap": {},
     "title": ""
    }
   },
   "outputs": [],
   "source": [
    "# Extract (word, movie_id) pairs to count unique movies per word\n",
    "doc_word_rdd = tf_rdd.map(lambda x: (x[0][1], x[0][0])).distinct()"
   ]
  },
  {
   "cell_type": "code",
   "execution_count": 0,
   "metadata": {
    "application/vnd.databricks.v1+cell": {
     "cellMetadata": {
      "byteLimit": 2048000,
      "rowLimit": 10000
     },
     "inputWidgets": {},
     "nuid": "16d7e920-4e67-48b2-a51a-e76e7c589e78",
     "showTitle": false,
     "tableResultSettingsMap": {},
     "title": ""
    }
   },
   "outputs": [],
   "source": [
    "# Count how many documents contain each word\n",
    "df_rdd = doc_word_rdd.map(lambda x: (x[0], 1)).reduceByKey(lambda a, b: a + b)"
   ]
  },
  {
   "cell_type": "code",
   "execution_count": 0,
   "metadata": {
    "application/vnd.databricks.v1+cell": {
     "cellMetadata": {
      "byteLimit": 2048000,
      "rowLimit": 10000
     },
     "inputWidgets": {},
     "nuid": "4c400ed5-4ec6-4f6e-8f33-7ff296c40c38",
     "showTitle": false,
     "tableResultSettingsMap": {},
     "title": ""
    }
   },
   "outputs": [],
   "source": [
    "# Get total number of documents\n",
    "num_docs = data_rdd.count()"
   ]
  },
  {
   "cell_type": "code",
   "execution_count": 0,
   "metadata": {
    "application/vnd.databricks.v1+cell": {
     "cellMetadata": {
      "byteLimit": 2048000,
      "rowLimit": 10000
     },
     "inputWidgets": {},
     "nuid": "23bc3177-423a-4672-9ed2-77902a23b730",
     "showTitle": false,
     "tableResultSettingsMap": {},
     "title": ""
    }
   },
   "outputs": [],
   "source": [
    "# doc_word_rdd.take(5)"
   ]
  },
  {
   "cell_type": "code",
   "execution_count": 0,
   "metadata": {
    "application/vnd.databricks.v1+cell": {
     "cellMetadata": {
      "byteLimit": 2048000,
      "rowLimit": 10000
     },
     "inputWidgets": {},
     "nuid": "13e20c6e-a231-4391-bee5-7351a4209d33",
     "showTitle": false,
     "tableResultSettingsMap": {},
     "title": ""
    }
   },
   "outputs": [],
   "source": [
    "# df_rdd.take(5)"
   ]
  },
  {
   "cell_type": "code",
   "execution_count": 0,
   "metadata": {
    "application/vnd.databricks.v1+cell": {
     "cellMetadata": {
      "byteLimit": 2048000,
      "rowLimit": 10000
     },
     "inputWidgets": {},
     "nuid": "98beda39-fe12-42a5-aef0-b5d398e89c40",
     "showTitle": false,
     "tableResultSettingsMap": {},
     "title": ""
    }
   },
   "outputs": [],
   "source": [
    "# num_docs"
   ]
  },
  {
   "cell_type": "code",
   "execution_count": 0,
   "metadata": {
    "application/vnd.databricks.v1+cell": {
     "cellMetadata": {
      "byteLimit": 2048000,
      "rowLimit": 10000
     },
     "inputWidgets": {},
     "nuid": "c8339e16-d3b3-4b52-b009-296638a9f842",
     "showTitle": false,
     "tableResultSettingsMap": {},
     "title": ""
    }
   },
   "outputs": [],
   "source": [
    "# df_rdd.take(10)"
   ]
  },
  {
   "cell_type": "markdown",
   "metadata": {
    "application/vnd.databricks.v1+cell": {
     "cellMetadata": {
      "byteLimit": 2048000,
      "rowLimit": 10000
     },
     "inputWidgets": {},
     "nuid": "ac56d7a8-cb2b-40fa-9081-6478ced62bef",
     "showTitle": false,
     "tableResultSettingsMap": {},
     "title": ""
    }
   },
   "source": [
    "## IDF Calculation"
   ]
  },
  {
   "cell_type": "code",
   "execution_count": 0,
   "metadata": {
    "application/vnd.databricks.v1+cell": {
     "cellMetadata": {
      "byteLimit": 2048000,
      "rowLimit": 10000
     },
     "inputWidgets": {},
     "nuid": "5dc3ddaf-e8fb-4453-9cbd-95510dfb7383",
     "showTitle": false,
     "tableResultSettingsMap": {},
     "title": ""
    }
   },
   "outputs": [],
   "source": [
    "# Compute IDF using log(N / df)\n",
    "idf_rdd = df_rdd.map(lambda x: (x[0], math.log(num_docs / (x[1] + 1))))"
   ]
  },
  {
   "cell_type": "code",
   "execution_count": 0,
   "metadata": {
    "application/vnd.databricks.v1+cell": {
     "cellMetadata": {
      "byteLimit": 2048000,
      "rowLimit": 10000
     },
     "inputWidgets": {},
     "nuid": "2773447e-c6f8-4a6b-98af-5d16291234ab",
     "showTitle": false,
     "tableResultSettingsMap": {},
     "title": ""
    }
   },
   "outputs": [],
   "source": [
    "# idf_rdd.sortBy(lambda x: -x[1]).take(20)"
   ]
  },
  {
   "cell_type": "code",
   "execution_count": 0,
   "metadata": {
    "application/vnd.databricks.v1+cell": {
     "cellMetadata": {
      "byteLimit": 2048000,
      "rowLimit": 10000
     },
     "inputWidgets": {},
     "nuid": "622b5dc4-8163-40b3-8a13-284e2d4c6b67",
     "showTitle": false,
     "tableResultSettingsMap": {},
     "title": ""
    }
   },
   "outputs": [],
   "source": [
    "# idf_rdd.take(10)"
   ]
  },
  {
   "cell_type": "code",
   "execution_count": 0,
   "metadata": {
    "application/vnd.databricks.v1+cell": {
     "cellMetadata": {
      "byteLimit": 2048000,
      "rowLimit": 10000
     },
     "inputWidgets": {},
     "nuid": "b1706526-3ac0-45bd-bef7-05440b6f0484",
     "showTitle": false,
     "tableResultSettingsMap": {},
     "title": ""
    }
   },
   "outputs": [],
   "source": [
    "# Join TF and IDF\n",
    "tfidf_rdd = tf_rdd.map(lambda x: (x[0][1], (x[0][0], x[1])))  # (word, (movie_id, tf))\n",
    "tfidf_rdd = tfidf_rdd.join(idf_rdd)  # (word, ((movie_id, tf), idf))\n",
    "tfidf_rdd = tfidf_rdd.map(lambda x: ((x[1][0][0], x[0]), x[1][0][1] * x[1][1]))  # ((movie_id, word), tf-idf)"
   ]
  },
  {
   "cell_type": "code",
   "execution_count": 0,
   "metadata": {
    "application/vnd.databricks.v1+cell": {
     "cellMetadata": {
      "byteLimit": 2048000,
      "rowLimit": 10000
     },
     "inputWidgets": {},
     "nuid": "ac2efd33-de96-42d6-bf6d-487d68cfaa30",
     "showTitle": false,
     "tableResultSettingsMap": {},
     "title": ""
    }
   },
   "outputs": [],
   "source": [
    "# tfidf_rdd.take(10)"
   ]
  },
  {
   "cell_type": "markdown",
   "metadata": {
    "application/vnd.databricks.v1+cell": {
     "cellMetadata": {
      "byteLimit": 2048000,
      "rowLimit": 10000
     },
     "inputWidgets": {},
     "nuid": "2b6a2cae-f83c-4c4e-9600-9a5ea0983e96",
     "showTitle": false,
     "tableResultSettingsMap": {},
     "title": ""
    }
   },
   "source": [
    "# Reading Search Queries"
   ]
  },
  {
   "cell_type": "code",
   "execution_count": 0,
   "metadata": {
    "application/vnd.databricks.v1+cell": {
     "cellMetadata": {
      "byteLimit": 2048000,
      "rowLimit": 10000
     },
     "inputWidgets": {},
     "nuid": "b946f7c5-32aa-4bcc-b8dc-9c846c064efd",
     "showTitle": false,
     "tableResultSettingsMap": {},
     "title": ""
    }
   },
   "outputs": [],
   "source": [
    "# Load query files\n",
    "single_term_rdd = sc.textFile(SINGLE_TERM_PATH)\n",
    "multi_term_rdd = sc.textFile(MULTI_TERM_PATH)\n",
    "\n",
    "# Collect queries as lists\n",
    "single_term_queries = single_term_rdd.collect()\n",
    "multi_term_queries = multi_term_rdd.collect()"
   ]
  },
  {
   "cell_type": "code",
   "execution_count": 0,
   "metadata": {
    "application/vnd.databricks.v1+cell": {
     "cellMetadata": {
      "byteLimit": 2048000,
      "rowLimit": 10000
     },
     "inputWidgets": {},
     "nuid": "62b7b9ad-796b-49cd-8f89-0c413c0ec448",
     "showTitle": false,
     "tableResultSettingsMap": {},
     "title": ""
    }
   },
   "outputs": [
    {
     "output_type": "stream",
     "name": "stdout",
     "output_type": "stream",
     "text": [
      "Single-Term Queries: ['action', 'adventure', 'comedy', 'romance', 'thriller']\nMulti-Term Queries: ['funny movie with action scenes', 'heartwarming drama with inspiring story', 'thrilling adventure with mystery and suspense', 'romantic comedy with clever dialogue and charm', 'suspenseful thriller with unexpected twist and depth']\n"
     ]
    }
   ],
   "source": [
    "# Print queries to verify\n",
    "print(\"Single-Term Queries:\", single_term_queries)\n",
    "print(\"Multi-Term Queries:\", multi_term_queries)"
   ]
  },
  {
   "cell_type": "code",
   "execution_count": 0,
   "metadata": {
    "application/vnd.databricks.v1+cell": {
     "cellMetadata": {
      "byteLimit": 2048000,
      "rowLimit": 10000
     },
     "inputWidgets": {},
     "nuid": "25d68573-9122-453d-ae67-4e0ff5181b9c",
     "showTitle": false,
     "tableResultSettingsMap": {},
     "title": ""
    }
   },
   "outputs": [],
   "source": [
    "def search_single_term(term):\n",
    "    results = (\n",
    "        tfidf_rdd.filter(lambda x: x[0][1] == term)\n",
    "        .map(lambda x: (x[0][0], x[1]))\n",
    "        .top(10, key=lambda x: x[1])\n",
    "    )  # Sort by TF-IDF\n",
    "    return results"
   ]
  },
  {
   "cell_type": "code",
   "execution_count": 0,
   "metadata": {
    "application/vnd.databricks.v1+cell": {
     "cellMetadata": {
      "byteLimit": 2048000,
      "rowLimit": 10000
     },
     "inputWidgets": {},
     "nuid": "5fa80907-e6ad-43ca-b4f1-5e94ca1b17f3",
     "showTitle": false,
     "tableResultSettingsMap": {},
     "title": ""
    }
   },
   "outputs": [],
   "source": [
    "# Run search for all single-term queries\n",
    "single_term_results = {term: search_single_term(term) for term in single_term_queries}"
   ]
  },
  {
   "cell_type": "code",
   "execution_count": 0,
   "metadata": {
    "application/vnd.databricks.v1+cell": {
     "cellMetadata": {
      "byteLimit": 2048000,
      "rowLimit": 10000
     },
     "inputWidgets": {},
     "nuid": "25a08143-3b38-4220-b75c-110bf7d0ef93",
     "showTitle": false,
     "tableResultSettingsMap": {},
     "title": ""
    }
   },
   "outputs": [
    {
     "output_type": "stream",
     "name": "stdout",
     "output_type": "stream",
     "text": [
      "\n🔍 Results for single-term query: action\nMovie ID: 28657324, TF-IDF Score: 41.445035499107064\nMovie ID: 33035035, TF-IDF Score: 27.630023666071374\nMovie ID: 31474926, TF-IDF Score: 20.722517749553532\nMovie ID: 4608223, TF-IDF Score: 17.268764791294608\nMovie ID: 10087485, TF-IDF Score: 17.268764791294608\nMovie ID: 1376388, TF-IDF Score: 13.815011833035687\nMovie ID: 17853465, TF-IDF Score: 13.815011833035687\nMovie ID: 12596771, TF-IDF Score: 13.815011833035687\nMovie ID: 23380332, TF-IDF Score: 10.361258874776766\nMovie ID: 1244836, TF-IDF Score: 10.361258874776766\n\n🔍 Results for single-term query: adventure\nMovie ID: 1266489, TF-IDF Score: 32.073625296612235\nMovie ID: 6115870, TF-IDF Score: 22.909732354723026\nMovie ID: 18405563, TF-IDF Score: 13.745839412833817\nMovie ID: 13365023, TF-IDF Score: 13.745839412833817\nMovie ID: 36177096, TF-IDF Score: 13.745839412833817\nMovie ID: 12759589, TF-IDF Score: 9.16389294188921\nMovie ID: 28111565, TF-IDF Score: 9.16389294188921\nMovie ID: 10328139, TF-IDF Score: 9.16389294188921\nMovie ID: 9737671, TF-IDF Score: 9.16389294188921\nMovie ID: 89631, TF-IDF Score: 9.16389294188921\n\n🔍 Results for single-term query: comedy\nMovie ID: 21503888, TF-IDF Score: 17.242251120903777\nMovie ID: 104916, TF-IDF Score: 17.242251120903777\nMovie ID: 2645237, TF-IDF Score: 17.242251120903777\nMovie ID: 3540323, TF-IDF Score: 17.242251120903777\nMovie ID: 12573781, TF-IDF Score: 17.242251120903777\nMovie ID: 18658944, TF-IDF Score: 12.931688340677834\nMovie ID: 4718224, TF-IDF Score: 12.931688340677834\nMovie ID: 3681052, TF-IDF Score: 12.931688340677834\nMovie ID: 6838264, TF-IDF Score: 12.931688340677834\nMovie ID: 33362692, TF-IDF Score: 12.931688340677834\n\n🔍 Results for single-term query: romance\nMovie ID: 22855953, TF-IDF Score: 18.62073190391215\nMovie ID: 3812366, TF-IDF Score: 14.89658552312972\nMovie ID: 31315579, TF-IDF Score: 11.17243914234729\nMovie ID: 16654243, TF-IDF Score: 11.17243914234729\nMovie ID: 921865, TF-IDF Score: 11.17243914234729\nMovie ID: 5547674, TF-IDF Score: 11.17243914234729\nMovie ID: 7194312, TF-IDF Score: 11.17243914234729\nMovie ID: 8921046, TF-IDF Score: 11.17243914234729\nMovie ID: 101954, TF-IDF Score: 11.17243914234729\nMovie ID: 29801414, TF-IDF Score: 11.17243914234729\n\n🔍 Results for single-term query: thriller\nMovie ID: 13725762, TF-IDF Score: 11.465406546237942\nMovie ID: 6393703, TF-IDF Score: 11.465406546237942\nMovie ID: 12596771, TF-IDF Score: 11.465406546237942\nMovie ID: 4596602, TF-IDF Score: 5.732703273118971\nMovie ID: 27972540, TF-IDF Score: 5.732703273118971\nMovie ID: 10660190, TF-IDF Score: 5.732703273118971\nMovie ID: 32975370, TF-IDF Score: 5.732703273118971\nMovie ID: 6461832, TF-IDF Score: 5.732703273118971\nMovie ID: 3332816, TF-IDF Score: 5.732703273118971\nMovie ID: 5938554, TF-IDF Score: 5.732703273118971\n"
     ]
    }
   ],
   "source": [
    "# Print results\n",
    "for term, results in single_term_results.items():\n",
    "    print(f\"\\n🔍 Results for single-term query: {term}\")\n",
    "    for movie_id, score in results:\n",
    "        print(f\"Movie ID: {movie_id}, TF-IDF Score: {score}\")"
   ]
  },
  {
   "cell_type": "code",
   "execution_count": 0,
   "metadata": {
    "application/vnd.databricks.v1+cell": {
     "cellMetadata": {
      "byteLimit": 2048000,
      "rowLimit": 10000
     },
     "inputWidgets": {},
     "nuid": "79cf2b82-b71e-46a4-afe9-86969f274748",
     "showTitle": false,
     "tableResultSettingsMap": {},
     "title": ""
    }
   },
   "outputs": [],
   "source": [
    "def search_multi_term(query):\n",
    "    query_terms = query.lower().split()\n",
    "\n",
    "    # Get query term TF-IDF values\n",
    "    query_tfidf_rdd = tfidf_rdd.filter(lambda x: x[0][1] in query_terms)\n",
    "\n",
    "    # Compute document norms\n",
    "    doc_norms_rdd = (\n",
    "        query_tfidf_rdd.map(lambda x: (x[0][0], x[1] ** 2))\n",
    "        .reduceByKey(lambda a, b: a + b)\n",
    "        .map(lambda x: (x[0], math.sqrt(x[1])))\n",
    "    )\n",
    "\n",
    "    # Compute dot product for cosine similarity\n",
    "    dot_product_rdd = query_tfidf_rdd.map(lambda x: (x[0][0], x[1])).reduceByKey(\n",
    "        lambda a, b: a + b\n",
    "    )\n",
    "\n",
    "    # Normalize and compute final similarity\n",
    "    cosine_sim_rdd = (\n",
    "        dot_product_rdd.join(doc_norms_rdd)\n",
    "        .map(lambda x: (x[0], x[1][0] / x[1][1]))\n",
    "        .top(10, key=lambda x: x[1])\n",
    "    )\n",
    "\n",
    "    return cosine_sim_rdd"
   ]
  },
  {
   "cell_type": "code",
   "execution_count": 0,
   "metadata": {
    "application/vnd.databricks.v1+cell": {
     "cellMetadata": {
      "byteLimit": 2048000,
      "rowLimit": 10000
     },
     "inputWidgets": {},
     "nuid": "430294f1-a8ea-4a2c-96d4-909e5fc861d8",
     "showTitle": false,
     "tableResultSettingsMap": {},
     "title": ""
    }
   },
   "outputs": [],
   "source": [
    "# Run search for all multi-term queries\n",
    "multi_term_results = {query: search_multi_term(query) for query in multi_term_queries}"
   ]
  },
  {
   "cell_type": "code",
   "execution_count": 0,
   "metadata": {
    "application/vnd.databricks.v1+cell": {
     "cellMetadata": {
      "byteLimit": 2048000,
      "rowLimit": 10000
     },
     "inputWidgets": {},
     "nuid": "095923b8-e7bb-469c-99b0-ce069e74964b",
     "showTitle": false,
     "tableResultSettingsMap": {},
     "title": ""
    }
   },
   "outputs": [
    {
     "output_type": "stream",
     "name": "stdout",
     "output_type": "stream",
     "text": [
      "\n🔍 Results for multi-term query: funny movie with action scenes\nMovie ID: 4513177, Cosine Similarity: 1.7218655342148554\nMovie ID: 1047827, Cosine Similarity: 1.7218655342148554\nMovie ID: 1801788, Cosine Similarity: 1.7218655342148554\nMovie ID: 1343165, Cosine Similarity: 1.7218655342148554\nMovie ID: 5258501, Cosine Similarity: 1.7218655342148554\nMovie ID: 19822985, Cosine Similarity: 1.717713774365684\nMovie ID: 5778040, Cosine Similarity: 1.6965573909031133\nMovie ID: 164395, Cosine Similarity: 1.6965573909031133\nMovie ID: 8279491, Cosine Similarity: 1.6965573909031133\nMovie ID: 1812196, Cosine Similarity: 1.6965573909031133\n\n🔍 Results for multi-term query: heartwarming drama with inspiring story\nMovie ID: 19923267, Cosine Similarity: 1.5703944432376282\nMovie ID: 13516269, Cosine Similarity: 1.4137155106519212\nMovie ID: 8714658, Cosine Similarity: 1.4102350468211504\nMovie ID: 1374349, Cosine Similarity: 1.4102350468211504\nMovie ID: 17955165, Cosine Similarity: 1.4102350468211504\nMovie ID: 358263, Cosine Similarity: 1.4102350468211504\nMovie ID: 29664578, Cosine Similarity: 1.4046721934613966\nMovie ID: 3645256, Cosine Similarity: 1.4029908719124458\nMovie ID: 11848017, Cosine Similarity: 1.4029908719124458\nMovie ID: 20689529, Cosine Similarity: 1.4029908719124458\n\n🔍 Results for multi-term query: thrilling adventure with mystery and suspense\nMovie ID: 33799140, Cosine Similarity: 1.4137502260115162\nMovie ID: 31425262, Cosine Similarity: 1.4137502260115162\nMovie ID: 10208176, Cosine Similarity: 1.4130939978003636\nMovie ID: 16172056, Cosine Similarity: 1.4130939978003636\nMovie ID: 34114113, Cosine Similarity: 1.4130939978003636\nMovie ID: 22855953, Cosine Similarity: 1.4130939978003636\nMovie ID: 3331330, Cosine Similarity: 1.4130939978003636\nMovie ID: 16799338, Cosine Similarity: 1.4130939978003636\nMovie ID: 31908, Cosine Similarity: 1.4130939978003636\nMovie ID: 19757981, Cosine Similarity: 1.4130939978003636\n\n🔍 Results for multi-term query: romantic comedy with clever dialogue and charm\nMovie ID: 2727959, Cosine Similarity: 1.9696711470999424\nMovie ID: 12813263, Cosine Similarity: 1.7103701029444578\nMovie ID: 5020303, Cosine Similarity: 1.702908147333297\nMovie ID: 33362692, Cosine Similarity: 1.619286979908955\nMovie ID: 46757, Cosine Similarity: 1.4136051010955697\nMovie ID: 26208121, Cosine Similarity: 1.4125381503857737\nMovie ID: 168491, Cosine Similarity: 1.4083111819361742\nMovie ID: 22380440, Cosine Similarity: 1.4064111216399913\nMovie ID: 5409760, Cosine Similarity: 1.4064111216399913\nMovie ID: 3339200, Cosine Similarity: 1.4064111216399913\n\n🔍 Results for multi-term query: suspenseful thriller with unexpected twist and depth\nMovie ID: 8641297, Cosine Similarity: 1.4138988128935095\nMovie ID: 18531768, Cosine Similarity: 1.4134495022001938\nMovie ID: 29770072, Cosine Similarity: 1.4134495022001938\nMovie ID: 8614120, Cosine Similarity: 1.4134495022001938\nMovie ID: 1419209, Cosine Similarity: 1.4134495022001938\nMovie ID: 31188818, Cosine Similarity: 1.4134495022001938\nMovie ID: 10791794, Cosine Similarity: 1.4134495022001938\nMovie ID: 3799386, Cosine Similarity: 1.4134495022001938\nMovie ID: 32884819, Cosine Similarity: 1.4134495022001938\nMovie ID: 6526603, Cosine Similarity: 1.4134495022001938\n"
     ]
    }
   ],
   "source": [
    "# Print results\n",
    "for query, results in multi_term_results.items():\n",
    "    print(f\"\\n🔍 Results for multi-term query: {query}\")\n",
    "    for movie_id, similarity in results:\n",
    "        print(f\"Movie ID: {movie_id}, Cosine Similarity: {similarity}\")"
   ]
  },
  {
   "cell_type": "code",
   "execution_count": 0,
   "metadata": {
    "application/vnd.databricks.v1+cell": {
     "cellMetadata": {
      "byteLimit": 2048000,
      "rowLimit": 10000
     },
     "inputWidgets": {},
     "nuid": "c27d76d5-603e-4e2d-b5c1-0e234f60ff50",
     "showTitle": false,
     "tableResultSettingsMap": {},
     "title": ""
    }
   },
   "outputs": [],
   "source": [
    "# Load movie metadata (movie_id -> movie_name)\n",
    "metadata_rdd = (\n",
    "    sc.textFile(METADATA_PATH)\n",
    "    .map(lambda line: line.split(\"\\t\"))\n",
    "    .map(lambda x: (int(x[0]), x[2]))\n",
    ")  # (movie_id, movie_name)"
   ]
  },
  {
   "cell_type": "code",
   "execution_count": 0,
   "metadata": {
    "application/vnd.databricks.v1+cell": {
     "cellMetadata": {
      "byteLimit": 2048000,
      "rowLimit": 10000
     },
     "inputWidgets": {},
     "nuid": "54f1bf25-a866-4052-bde9-8fd36891a78c",
     "showTitle": false,
     "tableResultSettingsMap": {},
     "title": ""
    }
   },
   "outputs": [],
   "source": [
    "# Function to get movie names\n",
    "def get_movie_names(results):\n",
    "    results_rdd = sc.parallelize(results)\n",
    "    return results_rdd.join(metadata_rdd).map(lambda x: (x[1][1], x[1][0])).collect()"
   ]
  },
  {
   "cell_type": "code",
   "execution_count": 0,
   "metadata": {
    "application/vnd.databricks.v1+cell": {
     "cellMetadata": {
      "byteLimit": 2048000,
      "rowLimit": 10000
     },
     "inputWidgets": {},
     "nuid": "e4d51560-f350-4efc-9bf4-d43257dcaa6b",
     "showTitle": false,
     "tableResultSettingsMap": {},
     "title": ""
    }
   },
   "outputs": [
    {
     "output_type": "stream",
     "name": "stdout",
     "output_type": "stream",
     "text": [
      "\n📽 Movies for single-term 'action': [('Kyun Tum Say Itna Pyar Hai', 13.815011833035687), ('Nanny McPhee and the Big Bang', 10.361258874776766), ('West Side Story', 17.268764791294608), ('Crayon Shin-chan: Action Kamen vs Leotard Devil', 41.445035499107064), ('Action Man: Robot Atak', 27.630023666071374), ('Rosencrantz & Guildenstern Are Dead', 17.268764791294608), ('Bombaat', 13.815011833035687), ('Crayon Shin-chan: The Storm Called The Jungle', 20.722517749553532), ('Jingle All the Way', 10.361258874776766), ('Smallpox', 13.815011833035687)]\n\n📽 Movies for single-term 'adventure': [('Scavenger Hunt', 22.909732354723026), ('Hand in Hand', 9.16389294188921), ('The Goonies', 9.16389294188921), ('Wild Horse Hank', 13.745839412833817), ('Meu Tio Matou Um Cara', 13.745839412833817), ('Adventuress Wanted', 9.16389294188921), ('Blackie & Kanuto', 13.745839412833817), ('The Pagemaster', 32.073625296612235), ('Max Steel: Countdown', 9.16389294188921), ('The Brothers Bloom', 9.16389294188921)]\n\n📽 Movies for single-term 'comedy': [('General Motors 50th Anniversary Show', 17.242251120903777), ('Thousands Cheer', 12.931688340677834), ('Cinta Kura Kura', 12.931688340677834), (\"Talkin' Dirty After Dark\", 17.242251120903777), ('Mahaul Theek Hai', 12.931688340677834), ('Punchline', 12.931688340677834), ('Funny Bones', 12.931688340677834), ('Man on the Moon', 17.242251120903777), ('Where the Truth Lies', 17.242251120903777), ('Hollywood Outlaw Movie', 17.242251120903777)]\n\n📽 Movies for single-term 'romance': [('Chocolate', 11.17243914234729), ('4 Romance', 18.62073190391215), ('Future Cops', 11.17243914234729), (\"Baby It's You\", 11.17243914234729), ('The English Patient', 11.17243914234729), ('Second Fiddle', 11.17243914234729), ('Beyond the Valley of the Dolls', 11.17243914234729), ('The Great Outdoors', 14.89658552312972), ('The Congress Dances', 11.17243914234729), ('The manor of Araucaima', 11.17243914234729)]\n\n📽 Movies for single-term 'thriller': [('Gurushetram - 24 Hours of Anger', 5.732703273118971), ('Ek Chalis Ki Last Local', 5.732703273118971), ('Parakrami', 5.732703273118971), ('Kyun Tum Say Itna Pyar Hai', 11.465406546237942), ('Godfather', 11.465406546237942), ('Ashes to Ashes', 5.732703273118971), ('Betrayed', 5.732703273118971), ('Man In The Mirror: The Michael Jackson Story', 11.465406546237942), ('Crossing', 5.732703273118971), ('Kasoor', 5.732703273118971)]\n"
     ]
    }
   ],
   "source": [
    "# Convert single-term results\n",
    "for term, results in single_term_results.items():\n",
    "    named_results = get_movie_names(results)\n",
    "    print(f\"\\n📽 Movies for single-term '{term}':\", named_results)"
   ]
  },
  {
   "cell_type": "code",
   "execution_count": 0,
   "metadata": {
    "application/vnd.databricks.v1+cell": {
     "cellMetadata": {
      "byteLimit": 2048000,
      "rowLimit": 10000
     },
     "inputWidgets": {},
     "nuid": "574dd7b4-1790-42a4-a629-25a7727c2ae9",
     "showTitle": false,
     "tableResultSettingsMap": {},
     "title": ""
    }
   },
   "outputs": [
    {
     "output_type": "stream",
     "name": "stdout",
     "output_type": "stream",
     "text": [
      "\n📽 Movies for multi-term 'funny movie with action scenes': [('Om Shanti Om', 1.6965573909031133), ('Dien Bien Phu', 1.7218655342148554), ('The Purple Monster Strikes', 1.6965573909031133), ('The Alamo', 1.7218655342148554), (\"Beethoven's Big Break\", 1.717713774365684), ('The Stunt Man', 1.6965573909031133), ('Manichitrathazhu', 1.6965573909031133), ('Benji the Hunted', 1.7218655342148554), ('The Game of Death', 1.7218655342148554), ('More American Graffiti', 1.7218655342148554)]\n\n📽 Movies for multi-term 'heartwarming drama with inspiring story': [('The Player', 1.4102350468211504), ('Salomé', 1.4102350468211504), ('The Locket', 1.4029908719124458), ('Saving Milly', 1.5703944432376282), ('Manodu', 1.4029908719124458), ('Guide', 1.4102350468211504), ('The Raven', 1.4046721934613966), ('Shriman Prithviraj', 1.4137155106519212), ('To Live', 1.4102350468211504), ('Candy Rain', 1.4029908719124458)]\n\n📽 Movies for multi-term 'thrilling adventure with mystery and suspense': [('Beautiful', 1.4137502260115162), ('Evenfall', 1.4130939978003636), ('The Big Premiere', 1.4130939978003636), ('Maaro', 1.4137502260115162), ('Une chance sur deux', 1.4130939978003636), ('4 Romance', 1.4130939978003636), ('Khela', 1.4130939978003636), ('The Jar: A Tale From the East', 1.4130939978003636), ('Mother Lode', 1.4130939978003636), ('Until the End of the World', 1.4130939978003636)]\n\n📽 Movies for multi-term 'romantic comedy with clever dialogue and charm': [('Sorry, Thanks', 1.4064111216399913), ('Warm Water Under a Red Bridge', 1.4064111216399913), ('Dinner at Eight', 1.4064111216399913), ('The Good Guy', 1.4125381503857737), ('Reuben, Reuben', 1.4083111819361742), ('Cinta Kura Kura', 1.619286979908955), ('All I Want for Christmas', 1.7103701029444578), ('Hyderabad Blues', 1.702908147333297), ('Black Narcissus', 1.4136051010955697), ('Brokedown Palace', 1.9696711470999424)]\n\n📽 Movies for multi-term 'suspenseful thriller with unexpected twist and depth': [('Saptapadi', 1.4134495022001938), ('Kadhal Enum Nadhiyinile', 1.4134495022001938), ('Cruel Doubt', 1.4134495022001938), ('Avargal', 1.4134495022001938), ('Off Limits', 1.4134495022001938), ('Ice Station Zebra', 1.4138988128935095), ('Vicious Circle', 1.4134495022001938), ('Rokkk', 1.4134495022001938), ('O Homem Que Copiava', 1.4134495022001938), ('Ishq', 1.4134495022001938)]\n"
     ]
    }
   ],
   "source": [
    "# Convert multi-term results\n",
    "for query, results in multi_term_results.items():\n",
    "    named_results = get_movie_names(results)\n",
    "    print(f\"\\n📽 Movies for multi-term '{query}':\", named_results)"
   ]
  },
  {
   "cell_type": "code",
   "execution_count": 0,
   "metadata": {
    "application/vnd.databricks.v1+cell": {
     "cellMetadata": {
      "byteLimit": 2048000,
      "rowLimit": 10000
     },
     "inputWidgets": {},
     "nuid": "c1fe8eb6-0e82-4d7f-b447-814c9b5345af",
     "showTitle": false,
     "tableResultSettingsMap": {},
     "title": ""
    }
   },
   "outputs": [],
   "source": []
  }
 ],
 "metadata": {
  "application/vnd.databricks.v1+notebook": {
   "computePreferences": null,
   "dashboards": [],
   "environmentMetadata": {
    "base_environment": "",
    "environment_version": "1"
   },
   "inputWidgetPreferences": null,
   "language": "python",
   "notebookMetadata": {
    "pythonIndentUnit": 4
   },
   "notebookName": "1.b",
   "widgets": {}
  }
 },
 "nbformat": 4,
 "nbformat_minor": 0
}
